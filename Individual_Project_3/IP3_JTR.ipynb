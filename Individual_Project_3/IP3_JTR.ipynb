{
 "cells": [
  {
   "cell_type": "markdown",
   "id": "f3c9de75",
   "metadata": {
    "id": "f3c9de75"
   },
   "source": [
    "### IP3_JTR\n",
    "### DS-160-01\n",
    "#### Version 1.0"
   ]
  },
  {
   "cell_type": "markdown",
   "id": "fc456968",
   "metadata": {
    "id": "fc456968"
   },
   "source": [
    "#### 1. Attached to this assignment in Moodle is a file called weather_2012.csv. Download this file and put it in the same directory as your notebook. Read the file into a dataset named \"df\"."
   ]
  },
  {
   "cell_type": "code",
   "execution_count": 1,
   "id": "1bfa717b",
   "metadata": {
    "id": "1bfa717b"
   },
   "outputs": [],
   "source": [
    "# importing the pandas library and assigning it the alias \"pd\"\n",
    "import pandas as pd \n",
    "# read the specified csv file 'weather_2012.csv' \n",
    "# and assigns it to a variable 'df'. The low_memory parameter is set to False to ensure that the data is read in correctly\n",
    "df = pd.read_csv('weather_2012.csv', low_memory=False)\n"
   ]
  },
  {
   "cell_type": "markdown",
   "id": "8e2c270e",
   "metadata": {
    "id": "8e2c270e"
   },
   "source": [
    "#### 2. Write the code to display the first five rows of the dataset, the last five rows of the dataset, and a sample of five random rows from the dataset."
   ]
  },
  {
   "cell_type": "code",
   "execution_count": 2,
   "id": "992454c9",
   "metadata": {
    "colab": {
     "base_uri": "https://localhost:8080/",
     "height": 206
    },
    "id": "992454c9",
    "outputId": "b3e90695-e136-431e-d6a2-f61adb3362e1"
   },
   "outputs": [
    {
     "data": {
      "text/html": [
       "<div>\n",
       "<style scoped>\n",
       "    .dataframe tbody tr th:only-of-type {\n",
       "        vertical-align: middle;\n",
       "    }\n",
       "\n",
       "    .dataframe tbody tr th {\n",
       "        vertical-align: top;\n",
       "    }\n",
       "\n",
       "    .dataframe thead th {\n",
       "        text-align: right;\n",
       "    }\n",
       "</style>\n",
       "<table border=\"1\" class=\"dataframe\">\n",
       "  <thead>\n",
       "    <tr style=\"text-align: right;\">\n",
       "      <th></th>\n",
       "      <th>Date/Time</th>\n",
       "      <th>Temp (C)</th>\n",
       "      <th>Dew Point Temp (C)</th>\n",
       "      <th>Rel Hum (%)</th>\n",
       "      <th>Wind Spd (km/h)</th>\n",
       "      <th>Visibility (km)</th>\n",
       "      <th>Stn Press (kPa)</th>\n",
       "      <th>Weather</th>\n",
       "    </tr>\n",
       "  </thead>\n",
       "  <tbody>\n",
       "    <tr>\n",
       "      <th>0</th>\n",
       "      <td>2012-01-01 00:00:00</td>\n",
       "      <td>-1.8</td>\n",
       "      <td>-3.9</td>\n",
       "      <td>86</td>\n",
       "      <td>4</td>\n",
       "      <td>8.0</td>\n",
       "      <td>101.24</td>\n",
       "      <td>Fog</td>\n",
       "    </tr>\n",
       "    <tr>\n",
       "      <th>1</th>\n",
       "      <td>2012-01-01 01:00:00</td>\n",
       "      <td>-1.8</td>\n",
       "      <td>-3.7</td>\n",
       "      <td>87</td>\n",
       "      <td>4</td>\n",
       "      <td>8.0</td>\n",
       "      <td>101.24</td>\n",
       "      <td>Fog</td>\n",
       "    </tr>\n",
       "    <tr>\n",
       "      <th>2</th>\n",
       "      <td>2012-01-01 02:00:00</td>\n",
       "      <td>-1.8</td>\n",
       "      <td>-3.4</td>\n",
       "      <td>89</td>\n",
       "      <td>7</td>\n",
       "      <td>4.0</td>\n",
       "      <td>101.26</td>\n",
       "      <td>Freezing Drizzle,Fog</td>\n",
       "    </tr>\n",
       "    <tr>\n",
       "      <th>3</th>\n",
       "      <td>2012-01-01 03:00:00</td>\n",
       "      <td>-1.5</td>\n",
       "      <td>-3.2</td>\n",
       "      <td>88</td>\n",
       "      <td>6</td>\n",
       "      <td>4.0</td>\n",
       "      <td>101.27</td>\n",
       "      <td>Freezing Drizzle,Fog</td>\n",
       "    </tr>\n",
       "    <tr>\n",
       "      <th>4</th>\n",
       "      <td>2012-01-01 04:00:00</td>\n",
       "      <td>-1.5</td>\n",
       "      <td>-3.3</td>\n",
       "      <td>88</td>\n",
       "      <td>7</td>\n",
       "      <td>4.8</td>\n",
       "      <td>101.23</td>\n",
       "      <td>Fog</td>\n",
       "    </tr>\n",
       "  </tbody>\n",
       "</table>\n",
       "</div>"
      ],
      "text/plain": [
       "             Date/Time  Temp (C)  Dew Point Temp (C)  Rel Hum (%)  \\\n",
       "0  2012-01-01 00:00:00      -1.8                -3.9           86   \n",
       "1  2012-01-01 01:00:00      -1.8                -3.7           87   \n",
       "2  2012-01-01 02:00:00      -1.8                -3.4           89   \n",
       "3  2012-01-01 03:00:00      -1.5                -3.2           88   \n",
       "4  2012-01-01 04:00:00      -1.5                -3.3           88   \n",
       "\n",
       "   Wind Spd (km/h)  Visibility (km)  Stn Press (kPa)               Weather  \n",
       "0                4              8.0           101.24                   Fog  \n",
       "1                4              8.0           101.24                   Fog  \n",
       "2                7              4.0           101.26  Freezing Drizzle,Fog  \n",
       "3                6              4.0           101.27  Freezing Drizzle,Fog  \n",
       "4                7              4.8           101.23                   Fog  "
      ]
     },
     "execution_count": 2,
     "metadata": {},
     "output_type": "execute_result"
    }
   ],
   "source": [
    "# This line of code returns the first five rows of the dataframe 'df' using the head() function. \n",
    "# It allows you to get a quick look at the data before you start exploring it in more detail.\n",
    "df.head() "
   ]
  },
  {
   "cell_type": "code",
   "execution_count": 3,
   "id": "65005c57",
   "metadata": {
    "colab": {
     "base_uri": "https://localhost:8080/",
     "height": 206
    },
    "id": "65005c57",
    "outputId": "003b4667-d0d3-425d-fd10-32c6e9851086"
   },
   "outputs": [
    {
     "data": {
      "text/html": [
       "<div>\n",
       "<style scoped>\n",
       "    .dataframe tbody tr th:only-of-type {\n",
       "        vertical-align: middle;\n",
       "    }\n",
       "\n",
       "    .dataframe tbody tr th {\n",
       "        vertical-align: top;\n",
       "    }\n",
       "\n",
       "    .dataframe thead th {\n",
       "        text-align: right;\n",
       "    }\n",
       "</style>\n",
       "<table border=\"1\" class=\"dataframe\">\n",
       "  <thead>\n",
       "    <tr style=\"text-align: right;\">\n",
       "      <th></th>\n",
       "      <th>Date/Time</th>\n",
       "      <th>Temp (C)</th>\n",
       "      <th>Dew Point Temp (C)</th>\n",
       "      <th>Rel Hum (%)</th>\n",
       "      <th>Wind Spd (km/h)</th>\n",
       "      <th>Visibility (km)</th>\n",
       "      <th>Stn Press (kPa)</th>\n",
       "      <th>Weather</th>\n",
       "    </tr>\n",
       "  </thead>\n",
       "  <tbody>\n",
       "    <tr>\n",
       "      <th>8779</th>\n",
       "      <td>2012-12-31 19:00:00</td>\n",
       "      <td>0.1</td>\n",
       "      <td>-2.7</td>\n",
       "      <td>81</td>\n",
       "      <td>30</td>\n",
       "      <td>9.7</td>\n",
       "      <td>100.13</td>\n",
       "      <td>Snow</td>\n",
       "    </tr>\n",
       "    <tr>\n",
       "      <th>8780</th>\n",
       "      <td>2012-12-31 20:00:00</td>\n",
       "      <td>0.2</td>\n",
       "      <td>-2.4</td>\n",
       "      <td>83</td>\n",
       "      <td>24</td>\n",
       "      <td>9.7</td>\n",
       "      <td>100.03</td>\n",
       "      <td>Snow</td>\n",
       "    </tr>\n",
       "    <tr>\n",
       "      <th>8781</th>\n",
       "      <td>2012-12-31 21:00:00</td>\n",
       "      <td>-0.5</td>\n",
       "      <td>-1.5</td>\n",
       "      <td>93</td>\n",
       "      <td>28</td>\n",
       "      <td>4.8</td>\n",
       "      <td>99.95</td>\n",
       "      <td>Snow</td>\n",
       "    </tr>\n",
       "    <tr>\n",
       "      <th>8782</th>\n",
       "      <td>2012-12-31 22:00:00</td>\n",
       "      <td>-0.2</td>\n",
       "      <td>-1.8</td>\n",
       "      <td>89</td>\n",
       "      <td>28</td>\n",
       "      <td>9.7</td>\n",
       "      <td>99.91</td>\n",
       "      <td>Snow</td>\n",
       "    </tr>\n",
       "    <tr>\n",
       "      <th>8783</th>\n",
       "      <td>2012-12-31 23:00:00</td>\n",
       "      <td>0.0</td>\n",
       "      <td>-2.1</td>\n",
       "      <td>86</td>\n",
       "      <td>30</td>\n",
       "      <td>11.3</td>\n",
       "      <td>99.89</td>\n",
       "      <td>Snow</td>\n",
       "    </tr>\n",
       "  </tbody>\n",
       "</table>\n",
       "</div>"
      ],
      "text/plain": [
       "                Date/Time  Temp (C)  Dew Point Temp (C)  Rel Hum (%)  \\\n",
       "8779  2012-12-31 19:00:00       0.1                -2.7           81   \n",
       "8780  2012-12-31 20:00:00       0.2                -2.4           83   \n",
       "8781  2012-12-31 21:00:00      -0.5                -1.5           93   \n",
       "8782  2012-12-31 22:00:00      -0.2                -1.8           89   \n",
       "8783  2012-12-31 23:00:00       0.0                -2.1           86   \n",
       "\n",
       "      Wind Spd (km/h)  Visibility (km)  Stn Press (kPa) Weather  \n",
       "8779               30              9.7           100.13    Snow  \n",
       "8780               24              9.7           100.03    Snow  \n",
       "8781               28              4.8            99.95    Snow  \n",
       "8782               28              9.7            99.91    Snow  \n",
       "8783               30             11.3            99.89    Snow  "
      ]
     },
     "execution_count": 3,
     "metadata": {},
     "output_type": "execute_result"
    }
   ],
   "source": [
    "# This line of code returns the last five rows of the dataframe 'df' using the tail() function. \n",
    "# It allows you to get a quick look at the last rows of the data before you start exploring it in more detail.\n",
    "df.tail() "
   ]
  },
  {
   "cell_type": "code",
   "execution_count": 4,
   "id": "a2f15949",
   "metadata": {
    "colab": {
     "base_uri": "https://localhost:8080/",
     "height": 206
    },
    "id": "a2f15949",
    "outputId": "5b2a8ffd-d693-4c62-8395-081423fdea4f"
   },
   "outputs": [
    {
     "data": {
      "text/html": [
       "<div>\n",
       "<style scoped>\n",
       "    .dataframe tbody tr th:only-of-type {\n",
       "        vertical-align: middle;\n",
       "    }\n",
       "\n",
       "    .dataframe tbody tr th {\n",
       "        vertical-align: top;\n",
       "    }\n",
       "\n",
       "    .dataframe thead th {\n",
       "        text-align: right;\n",
       "    }\n",
       "</style>\n",
       "<table border=\"1\" class=\"dataframe\">\n",
       "  <thead>\n",
       "    <tr style=\"text-align: right;\">\n",
       "      <th></th>\n",
       "      <th>Date/Time</th>\n",
       "      <th>Temp (C)</th>\n",
       "      <th>Dew Point Temp (C)</th>\n",
       "      <th>Rel Hum (%)</th>\n",
       "      <th>Wind Spd (km/h)</th>\n",
       "      <th>Visibility (km)</th>\n",
       "      <th>Stn Press (kPa)</th>\n",
       "      <th>Weather</th>\n",
       "    </tr>\n",
       "  </thead>\n",
       "  <tbody>\n",
       "    <tr>\n",
       "      <th>8229</th>\n",
       "      <td>2012-12-08 21:00:00</td>\n",
       "      <td>0.8</td>\n",
       "      <td>0.3</td>\n",
       "      <td>96</td>\n",
       "      <td>9</td>\n",
       "      <td>6.4</td>\n",
       "      <td>100.73</td>\n",
       "      <td>Rain,Snow,Fog</td>\n",
       "    </tr>\n",
       "    <tr>\n",
       "      <th>2642</th>\n",
       "      <td>2012-04-20 02:00:00</td>\n",
       "      <td>9.9</td>\n",
       "      <td>1.3</td>\n",
       "      <td>55</td>\n",
       "      <td>20</td>\n",
       "      <td>25.0</td>\n",
       "      <td>100.94</td>\n",
       "      <td>Mainly Clear</td>\n",
       "    </tr>\n",
       "    <tr>\n",
       "      <th>836</th>\n",
       "      <td>2012-02-04 20:00:00</td>\n",
       "      <td>-8.8</td>\n",
       "      <td>-14.4</td>\n",
       "      <td>64</td>\n",
       "      <td>6</td>\n",
       "      <td>25.0</td>\n",
       "      <td>101.97</td>\n",
       "      <td>Clear</td>\n",
       "    </tr>\n",
       "    <tr>\n",
       "      <th>1820</th>\n",
       "      <td>2012-03-16 20:00:00</td>\n",
       "      <td>3.7</td>\n",
       "      <td>3.3</td>\n",
       "      <td>97</td>\n",
       "      <td>0</td>\n",
       "      <td>2.0</td>\n",
       "      <td>101.93</td>\n",
       "      <td>Drizzle,Fog</td>\n",
       "    </tr>\n",
       "    <tr>\n",
       "      <th>3585</th>\n",
       "      <td>2012-05-29 09:00:00</td>\n",
       "      <td>18.6</td>\n",
       "      <td>15.1</td>\n",
       "      <td>80</td>\n",
       "      <td>4</td>\n",
       "      <td>19.3</td>\n",
       "      <td>100.12</td>\n",
       "      <td>Mainly Clear</td>\n",
       "    </tr>\n",
       "  </tbody>\n",
       "</table>\n",
       "</div>"
      ],
      "text/plain": [
       "                Date/Time  Temp (C)  Dew Point Temp (C)  Rel Hum (%)  \\\n",
       "8229  2012-12-08 21:00:00       0.8                 0.3           96   \n",
       "2642  2012-04-20 02:00:00       9.9                 1.3           55   \n",
       "836   2012-02-04 20:00:00      -8.8               -14.4           64   \n",
       "1820  2012-03-16 20:00:00       3.7                 3.3           97   \n",
       "3585  2012-05-29 09:00:00      18.6                15.1           80   \n",
       "\n",
       "      Wind Spd (km/h)  Visibility (km)  Stn Press (kPa)        Weather  \n",
       "8229                9              6.4           100.73  Rain,Snow,Fog  \n",
       "2642               20             25.0           100.94   Mainly Clear  \n",
       "836                 6             25.0           101.97          Clear  \n",
       "1820                0              2.0           101.93    Drizzle,Fog  \n",
       "3585                4             19.3           100.12   Mainly Clear  "
      ]
     },
     "execution_count": 4,
     "metadata": {},
     "output_type": "execute_result"
    }
   ],
   "source": [
    "# This line of code returns a random sample of 5 rows from the dataframe 'df' using the sample() function.\n",
    "# It allows you to get a quick random look at the data before you start exploring it in more detail.\n",
    "df.sample(5) "
   ]
  },
  {
   "cell_type": "markdown",
   "id": "55a0cd34",
   "metadata": {
    "id": "55a0cd34"
   },
   "source": [
    "#### 3. Write the code to display a list of all of the columns in the dataset."
   ]
  },
  {
   "cell_type": "code",
   "execution_count": 5,
   "id": "0e549fa4",
   "metadata": {
    "colab": {
     "base_uri": "https://localhost:8080/"
    },
    "id": "0e549fa4",
    "outputId": "02228943-12f2-4205-d6a0-a5fd31390b8d"
   },
   "outputs": [
    {
     "data": {
      "text/plain": [
       "Index(['Date/Time', 'Temp (C)', 'Dew Point Temp (C)', 'Rel Hum (%)',\n",
       "       'Wind Spd (km/h)', 'Visibility (km)', 'Stn Press (kPa)', 'Weather'],\n",
       "      dtype='object')"
      ]
     },
     "execution_count": 5,
     "metadata": {},
     "output_type": "execute_result"
    }
   ],
   "source": [
    "# get the column names\n",
    "df.columns"
   ]
  },
  {
   "cell_type": "markdown",
   "id": "c1ee70c3",
   "metadata": {
    "id": "c1ee70c3"
   },
   "source": [
    "#### 4. Rename the column names according to this list {data_time, temp_c, dew_point, relative_humidity, wind_speed, visibility, pressure, and weather}. Keep a copy of the original columns so we can change them back if needed at the end of our analysis."
   ]
  },
  {
   "cell_type": "code",
   "execution_count": 6,
   "id": "ac49c044",
   "metadata": {
    "colab": {
     "base_uri": "https://localhost:8080/"
    },
    "id": "ac49c044",
    "outputId": "bb983444-4e68-4f21-b1a4-aa80156cf203",
    "scrolled": true
   },
   "outputs": [
    {
     "name": "stdout",
     "output_type": "stream",
     "text": [
      "<class 'pandas.core.frame.DataFrame'>\n",
      "RangeIndex: 8784 entries, 0 to 8783\n",
      "Data columns (total 8 columns):\n",
      " #   Column              Non-Null Count  Dtype  \n",
      "---  ------              --------------  -----  \n",
      " 0   Date/Time           8784 non-null   object \n",
      " 1   Temp (C)            8784 non-null   float64\n",
      " 2   Dew Point Temp (C)  8784 non-null   float64\n",
      " 3   Rel Hum (%)         8784 non-null   int64  \n",
      " 4   Wind Spd (km/h)     8784 non-null   int64  \n",
      " 5   Visibility (km)     8784 non-null   float64\n",
      " 6   Stn Press (kPa)     8784 non-null   float64\n",
      " 7   Weather             8784 non-null   object \n",
      "dtypes: float64(4), int64(2), object(2)\n",
      "memory usage: 549.1+ KB\n"
     ]
    }
   ],
   "source": [
    "# get the DataFrame info\n",
    "df.info()"
   ]
  },
  {
   "cell_type": "code",
   "execution_count": 7,
   "id": "2fb2a8f2",
   "metadata": {
    "colab": {
     "base_uri": "https://localhost:8080/"
    },
    "id": "2fb2a8f2",
    "outputId": "06243e4e-7aee-4d2b-9caf-a301c2426d32"
   },
   "outputs": [
    {
     "name": "stdout",
     "output_type": "stream",
     "text": [
      "<class 'pandas.core.frame.DataFrame'>\n",
      "RangeIndex: 8784 entries, 0 to 8783\n",
      "Data columns (total 8 columns):\n",
      " #   Column             Non-Null Count  Dtype  \n",
      "---  ------             --------------  -----  \n",
      " 0   date_time          8784 non-null   object \n",
      " 1   temp_c             8784 non-null   float64\n",
      " 2   dew_point          8784 non-null   float64\n",
      " 3   relative_humidity  8784 non-null   int64  \n",
      " 4   wind_speed         8784 non-null   int64  \n",
      " 5   visibility         8784 non-null   float64\n",
      " 6   pressure           8784 non-null   float64\n",
      " 7   weather            8784 non-null   object \n",
      "dtypes: float64(4), int64(2), object(2)\n",
      "memory usage: 549.1+ KB\n"
     ]
    }
   ],
   "source": [
    "# rename columns\n",
    "df.rename(columns={'Date/Time':'date_time', 'Temp (C)':'temp_c',\n",
    "    'Dew Point Temp (C)':'dew_point', 'Rel Hum (%)':'relative_humidity',\n",
    "    'Wind Spd (km/h)':'wind_speed', 'Visibility (km)':'visibility',\n",
    "    'Stn Press (kPa)':'pressure','Weather':'weather'}, inplace=True)\n",
    "df.info()\n",
    "#df['data_time']=df['Date/Time']\n",
    "#df['temp_c']=df['Temp (C)']\n",
    "#df['dew_point']=df['Dew Point Temp (C)']\n",
    "#df['relative_humidity']=df['Rel Hum (%)']\n",
    "#df['wind_speed']=df['Wind Spd (km/h)']\n",
    "#df['visibility']=df['Visibility (km)']\n",
    "#df['pressure']=df['Stn Press (kPa)']\n",
    "#df['weather']=df['Weather']"
   ]
  },
  {
   "cell_type": "markdown",
   "id": "75914fd4",
   "metadata": {
    "id": "75914fd4"
   },
   "source": [
    "#### 5. Write the code to get some standard statistics for each column (e.g. count, mean, etc.)"
   ]
  },
  {
   "cell_type": "code",
   "execution_count": 8,
   "id": "7b46947b",
   "metadata": {
    "colab": {
     "base_uri": "https://localhost:8080/",
     "height": 300
    },
    "id": "7b46947b",
    "outputId": "d6c781d3-5363-42bc-efac-9974393a3109"
   },
   "outputs": [
    {
     "data": {
      "text/html": [
       "<div>\n",
       "<style scoped>\n",
       "    .dataframe tbody tr th:only-of-type {\n",
       "        vertical-align: middle;\n",
       "    }\n",
       "\n",
       "    .dataframe tbody tr th {\n",
       "        vertical-align: top;\n",
       "    }\n",
       "\n",
       "    .dataframe thead th {\n",
       "        text-align: right;\n",
       "    }\n",
       "</style>\n",
       "<table border=\"1\" class=\"dataframe\">\n",
       "  <thead>\n",
       "    <tr style=\"text-align: right;\">\n",
       "      <th></th>\n",
       "      <th>temp_c</th>\n",
       "      <th>dew_point</th>\n",
       "      <th>relative_humidity</th>\n",
       "      <th>wind_speed</th>\n",
       "      <th>visibility</th>\n",
       "      <th>pressure</th>\n",
       "    </tr>\n",
       "  </thead>\n",
       "  <tbody>\n",
       "    <tr>\n",
       "      <th>count</th>\n",
       "      <td>8784.000000</td>\n",
       "      <td>8784.000000</td>\n",
       "      <td>8784.000000</td>\n",
       "      <td>8784.000000</td>\n",
       "      <td>8784.000000</td>\n",
       "      <td>8784.000000</td>\n",
       "    </tr>\n",
       "    <tr>\n",
       "      <th>mean</th>\n",
       "      <td>8.798144</td>\n",
       "      <td>2.555294</td>\n",
       "      <td>67.431694</td>\n",
       "      <td>14.945469</td>\n",
       "      <td>27.664447</td>\n",
       "      <td>101.051623</td>\n",
       "    </tr>\n",
       "    <tr>\n",
       "      <th>std</th>\n",
       "      <td>11.687883</td>\n",
       "      <td>10.883072</td>\n",
       "      <td>16.918881</td>\n",
       "      <td>8.688696</td>\n",
       "      <td>12.622688</td>\n",
       "      <td>0.844005</td>\n",
       "    </tr>\n",
       "    <tr>\n",
       "      <th>min</th>\n",
       "      <td>-23.300000</td>\n",
       "      <td>-28.500000</td>\n",
       "      <td>18.000000</td>\n",
       "      <td>0.000000</td>\n",
       "      <td>0.200000</td>\n",
       "      <td>97.520000</td>\n",
       "    </tr>\n",
       "    <tr>\n",
       "      <th>25%</th>\n",
       "      <td>0.100000</td>\n",
       "      <td>-5.900000</td>\n",
       "      <td>56.000000</td>\n",
       "      <td>9.000000</td>\n",
       "      <td>24.100000</td>\n",
       "      <td>100.560000</td>\n",
       "    </tr>\n",
       "    <tr>\n",
       "      <th>50%</th>\n",
       "      <td>9.300000</td>\n",
       "      <td>3.300000</td>\n",
       "      <td>68.000000</td>\n",
       "      <td>13.000000</td>\n",
       "      <td>25.000000</td>\n",
       "      <td>101.070000</td>\n",
       "    </tr>\n",
       "    <tr>\n",
       "      <th>75%</th>\n",
       "      <td>18.800000</td>\n",
       "      <td>11.800000</td>\n",
       "      <td>81.000000</td>\n",
       "      <td>20.000000</td>\n",
       "      <td>25.000000</td>\n",
       "      <td>101.590000</td>\n",
       "    </tr>\n",
       "    <tr>\n",
       "      <th>max</th>\n",
       "      <td>33.000000</td>\n",
       "      <td>24.400000</td>\n",
       "      <td>100.000000</td>\n",
       "      <td>83.000000</td>\n",
       "      <td>48.300000</td>\n",
       "      <td>103.650000</td>\n",
       "    </tr>\n",
       "  </tbody>\n",
       "</table>\n",
       "</div>"
      ],
      "text/plain": [
       "            temp_c    dew_point  relative_humidity   wind_speed   visibility  \\\n",
       "count  8784.000000  8784.000000        8784.000000  8784.000000  8784.000000   \n",
       "mean      8.798144     2.555294          67.431694    14.945469    27.664447   \n",
       "std      11.687883    10.883072          16.918881     8.688696    12.622688   \n",
       "min     -23.300000   -28.500000          18.000000     0.000000     0.200000   \n",
       "25%       0.100000    -5.900000          56.000000     9.000000    24.100000   \n",
       "50%       9.300000     3.300000          68.000000    13.000000    25.000000   \n",
       "75%      18.800000    11.800000          81.000000    20.000000    25.000000   \n",
       "max      33.000000    24.400000         100.000000    83.000000    48.300000   \n",
       "\n",
       "          pressure  \n",
       "count  8784.000000  \n",
       "mean    101.051623  \n",
       "std       0.844005  \n",
       "min      97.520000  \n",
       "25%     100.560000  \n",
       "50%     101.070000  \n",
       "75%     101.590000  \n",
       "max     103.650000  "
      ]
     },
     "execution_count": 8,
     "metadata": {},
     "output_type": "execute_result"
    }
   ],
   "source": [
    "# get summary statistics\n",
    "df.describe()"
   ]
  },
  {
   "cell_type": "markdown",
   "id": "9b3376b1",
   "metadata": {
    "id": "9b3376b1"
   },
   "source": [
    "#### 6. Write the code to add a column named temp_f to the dataset that contains the temperature from temp_c represented in Fahrenheit."
   ]
  },
  {
   "cell_type": "code",
   "execution_count": 9,
   "id": "c4a4403c",
   "metadata": {
    "colab": {
     "base_uri": "https://localhost:8080/",
     "height": 206
    },
    "id": "c4a4403c",
    "outputId": "2f4b588d-25e5-4507-a83e-b8e66288ba2e"
   },
   "outputs": [
    {
     "data": {
      "text/html": [
       "<div>\n",
       "<style scoped>\n",
       "    .dataframe tbody tr th:only-of-type {\n",
       "        vertical-align: middle;\n",
       "    }\n",
       "\n",
       "    .dataframe tbody tr th {\n",
       "        vertical-align: top;\n",
       "    }\n",
       "\n",
       "    .dataframe thead th {\n",
       "        text-align: right;\n",
       "    }\n",
       "</style>\n",
       "<table border=\"1\" class=\"dataframe\">\n",
       "  <thead>\n",
       "    <tr style=\"text-align: right;\">\n",
       "      <th></th>\n",
       "      <th>date_time</th>\n",
       "      <th>temp_c</th>\n",
       "      <th>dew_point</th>\n",
       "      <th>relative_humidity</th>\n",
       "      <th>wind_speed</th>\n",
       "      <th>visibility</th>\n",
       "      <th>pressure</th>\n",
       "      <th>weather</th>\n",
       "      <th>temp_f</th>\n",
       "    </tr>\n",
       "  </thead>\n",
       "  <tbody>\n",
       "    <tr>\n",
       "      <th>0</th>\n",
       "      <td>2012-01-01 00:00:00</td>\n",
       "      <td>-1.8</td>\n",
       "      <td>-3.9</td>\n",
       "      <td>86</td>\n",
       "      <td>4</td>\n",
       "      <td>8.0</td>\n",
       "      <td>101.24</td>\n",
       "      <td>Fog</td>\n",
       "      <td>28.76</td>\n",
       "    </tr>\n",
       "    <tr>\n",
       "      <th>1</th>\n",
       "      <td>2012-01-01 01:00:00</td>\n",
       "      <td>-1.8</td>\n",
       "      <td>-3.7</td>\n",
       "      <td>87</td>\n",
       "      <td>4</td>\n",
       "      <td>8.0</td>\n",
       "      <td>101.24</td>\n",
       "      <td>Fog</td>\n",
       "      <td>28.76</td>\n",
       "    </tr>\n",
       "    <tr>\n",
       "      <th>2</th>\n",
       "      <td>2012-01-01 02:00:00</td>\n",
       "      <td>-1.8</td>\n",
       "      <td>-3.4</td>\n",
       "      <td>89</td>\n",
       "      <td>7</td>\n",
       "      <td>4.0</td>\n",
       "      <td>101.26</td>\n",
       "      <td>Freezing Drizzle,Fog</td>\n",
       "      <td>28.76</td>\n",
       "    </tr>\n",
       "    <tr>\n",
       "      <th>3</th>\n",
       "      <td>2012-01-01 03:00:00</td>\n",
       "      <td>-1.5</td>\n",
       "      <td>-3.2</td>\n",
       "      <td>88</td>\n",
       "      <td>6</td>\n",
       "      <td>4.0</td>\n",
       "      <td>101.27</td>\n",
       "      <td>Freezing Drizzle,Fog</td>\n",
       "      <td>29.30</td>\n",
       "    </tr>\n",
       "    <tr>\n",
       "      <th>4</th>\n",
       "      <td>2012-01-01 04:00:00</td>\n",
       "      <td>-1.5</td>\n",
       "      <td>-3.3</td>\n",
       "      <td>88</td>\n",
       "      <td>7</td>\n",
       "      <td>4.8</td>\n",
       "      <td>101.23</td>\n",
       "      <td>Fog</td>\n",
       "      <td>29.30</td>\n",
       "    </tr>\n",
       "  </tbody>\n",
       "</table>\n",
       "</div>"
      ],
      "text/plain": [
       "             date_time  temp_c  dew_point  relative_humidity  wind_speed  \\\n",
       "0  2012-01-01 00:00:00    -1.8       -3.9                 86           4   \n",
       "1  2012-01-01 01:00:00    -1.8       -3.7                 87           4   \n",
       "2  2012-01-01 02:00:00    -1.8       -3.4                 89           7   \n",
       "3  2012-01-01 03:00:00    -1.5       -3.2                 88           6   \n",
       "4  2012-01-01 04:00:00    -1.5       -3.3                 88           7   \n",
       "\n",
       "   visibility  pressure               weather  temp_f  \n",
       "0         8.0    101.24                   Fog   28.76  \n",
       "1         8.0    101.24                   Fog   28.76  \n",
       "2         4.0    101.26  Freezing Drizzle,Fog   28.76  \n",
       "3         4.0    101.27  Freezing Drizzle,Fog   29.30  \n",
       "4         4.8    101.23                   Fog   29.30  "
      ]
     },
     "execution_count": 9,
     "metadata": {},
     "output_type": "execute_result"
    }
   ],
   "source": [
    "# create new column\n",
    "df['temp_f']=df['temp_c']\n",
    "# convert the value in temp_f to celsius and assign to temp_f\n",
    "df = df.assign(temp_f = lambda x: (9/5)*x['temp_f']+32)\n",
    "df.head()"
   ]
  },
  {
   "cell_type": "markdown",
   "id": "c275c6fd",
   "metadata": {
    "id": "c275c6fd"
   },
   "source": [
    "#### 7. Write the code to rearrange the columns in the dataset so temp_f appears immediately before temp_c"
   ]
  },
  {
   "cell_type": "code",
   "execution_count": 10,
   "id": "d08d9485",
   "metadata": {
    "colab": {
     "base_uri": "https://localhost:8080/",
     "height": 258
    },
    "id": "d08d9485",
    "outputId": "c21e3062-ddd2-46e3-dc4a-d8124b0eb177"
   },
   "outputs": [
    {
     "name": "stdout",
     "output_type": "stream",
     "text": [
      "Index(['date_time', 'temp_c', 'dew_point', 'relative_humidity', 'wind_speed',\n",
      "       'visibility', 'pressure', 'weather', 'temp_f'],\n",
      "      dtype='object')\n"
     ]
    },
    {
     "data": {
      "text/html": [
       "<div>\n",
       "<style scoped>\n",
       "    .dataframe tbody tr th:only-of-type {\n",
       "        vertical-align: middle;\n",
       "    }\n",
       "\n",
       "    .dataframe tbody tr th {\n",
       "        vertical-align: top;\n",
       "    }\n",
       "\n",
       "    .dataframe thead th {\n",
       "        text-align: right;\n",
       "    }\n",
       "</style>\n",
       "<table border=\"1\" class=\"dataframe\">\n",
       "  <thead>\n",
       "    <tr style=\"text-align: right;\">\n",
       "      <th></th>\n",
       "      <th>date_time</th>\n",
       "      <th>temp_f</th>\n",
       "      <th>temp_c</th>\n",
       "      <th>dew_point</th>\n",
       "      <th>relative_humidity</th>\n",
       "      <th>wind_speed</th>\n",
       "      <th>visibility</th>\n",
       "      <th>pressure</th>\n",
       "      <th>weather</th>\n",
       "    </tr>\n",
       "  </thead>\n",
       "  <tbody>\n",
       "    <tr>\n",
       "      <th>0</th>\n",
       "      <td>2012-01-01 00:00:00</td>\n",
       "      <td>28.76</td>\n",
       "      <td>-1.8</td>\n",
       "      <td>-3.9</td>\n",
       "      <td>86</td>\n",
       "      <td>4</td>\n",
       "      <td>8.0</td>\n",
       "      <td>101.24</td>\n",
       "      <td>Fog</td>\n",
       "    </tr>\n",
       "    <tr>\n",
       "      <th>1</th>\n",
       "      <td>2012-01-01 01:00:00</td>\n",
       "      <td>28.76</td>\n",
       "      <td>-1.8</td>\n",
       "      <td>-3.7</td>\n",
       "      <td>87</td>\n",
       "      <td>4</td>\n",
       "      <td>8.0</td>\n",
       "      <td>101.24</td>\n",
       "      <td>Fog</td>\n",
       "    </tr>\n",
       "    <tr>\n",
       "      <th>2</th>\n",
       "      <td>2012-01-01 02:00:00</td>\n",
       "      <td>28.76</td>\n",
       "      <td>-1.8</td>\n",
       "      <td>-3.4</td>\n",
       "      <td>89</td>\n",
       "      <td>7</td>\n",
       "      <td>4.0</td>\n",
       "      <td>101.26</td>\n",
       "      <td>Freezing Drizzle,Fog</td>\n",
       "    </tr>\n",
       "    <tr>\n",
       "      <th>3</th>\n",
       "      <td>2012-01-01 03:00:00</td>\n",
       "      <td>29.30</td>\n",
       "      <td>-1.5</td>\n",
       "      <td>-3.2</td>\n",
       "      <td>88</td>\n",
       "      <td>6</td>\n",
       "      <td>4.0</td>\n",
       "      <td>101.27</td>\n",
       "      <td>Freezing Drizzle,Fog</td>\n",
       "    </tr>\n",
       "    <tr>\n",
       "      <th>4</th>\n",
       "      <td>2012-01-01 04:00:00</td>\n",
       "      <td>29.30</td>\n",
       "      <td>-1.5</td>\n",
       "      <td>-3.3</td>\n",
       "      <td>88</td>\n",
       "      <td>7</td>\n",
       "      <td>4.8</td>\n",
       "      <td>101.23</td>\n",
       "      <td>Fog</td>\n",
       "    </tr>\n",
       "  </tbody>\n",
       "</table>\n",
       "</div>"
      ],
      "text/plain": [
       "             date_time  temp_f  temp_c  dew_point  relative_humidity  \\\n",
       "0  2012-01-01 00:00:00   28.76    -1.8       -3.9                 86   \n",
       "1  2012-01-01 01:00:00   28.76    -1.8       -3.7                 87   \n",
       "2  2012-01-01 02:00:00   28.76    -1.8       -3.4                 89   \n",
       "3  2012-01-01 03:00:00   29.30    -1.5       -3.2                 88   \n",
       "4  2012-01-01 04:00:00   29.30    -1.5       -3.3                 88   \n",
       "\n",
       "   wind_speed  visibility  pressure               weather  \n",
       "0           4         8.0    101.24                   Fog  \n",
       "1           4         8.0    101.24                   Fog  \n",
       "2           7         4.0    101.26  Freezing Drizzle,Fog  \n",
       "3           6         4.0    101.27  Freezing Drizzle,Fog  \n",
       "4           7         4.8    101.23                   Fog  "
      ]
     },
     "execution_count": 10,
     "metadata": {},
     "output_type": "execute_result"
    }
   ],
   "source": [
    "# check current column order\n",
    "print(df.columns)\n",
    "\n",
    "# Rearrange the columns\n",
    "df = df[['date_time', 'temp_f', 'temp_c','dew_point', 'relative_humidity', 'wind_speed', 'visibility', 'pressure', 'weather']]\n",
    "df.head()"
   ]
  },
  {
   "cell_type": "markdown",
   "id": "969cd3c9",
   "metadata": {
    "id": "969cd3c9"
   },
   "source": [
    "#### 8. Write the code to display the data types of all the columns in the dataset."
   ]
  },
  {
   "cell_type": "code",
   "execution_count": 11,
   "id": "ff1b89e2",
   "metadata": {
    "colab": {
     "base_uri": "https://localhost:8080/"
    },
    "id": "ff1b89e2",
    "outputId": "7122671f-3737-4950-d847-7caf6a733fca"
   },
   "outputs": [
    {
     "name": "stdout",
     "output_type": "stream",
     "text": [
      "date_time             object\n",
      "temp_f               float64\n",
      "temp_c               float64\n",
      "dew_point            float64\n",
      "relative_humidity      int64\n",
      "wind_speed             int64\n",
      "visibility           float64\n",
      "pressure             float64\n",
      "weather               object\n",
      "dtype: object\n"
     ]
    }
   ],
   "source": [
    "# Display the data types of all columns\n",
    "print(df.dtypes)"
   ]
  },
  {
   "cell_type": "markdown",
   "id": "86303f12",
   "metadata": {
    "id": "86303f12"
   },
   "source": [
    "#### 9. You'll notice that the date_time column is not actually considered a date by Pandas. Write the code to convert this column to a date/time column. Verify the conversion was succesful."
   ]
  },
  {
   "cell_type": "code",
   "execution_count": 12,
   "id": "62fcfece",
   "metadata": {
    "colab": {
     "base_uri": "https://localhost:8080/"
    },
    "id": "62fcfece",
    "outputId": "29bcf3ba-c6b4-4392-cb32-3aa07451dc6e"
   },
   "outputs": [
    {
     "name": "stdout",
     "output_type": "stream",
     "text": [
      "date_time            datetime64[ns]\n",
      "temp_f                      float64\n",
      "temp_c                      float64\n",
      "dew_point                   float64\n",
      "relative_humidity             int64\n",
      "wind_speed                    int64\n",
      "visibility                  float64\n",
      "pressure                    float64\n",
      "weather                      object\n",
      "dtype: object\n"
     ]
    }
   ],
   "source": [
    "# Convert the 'date_time' column to a datetime data type\n",
    "df['date_time'] = pd.to_datetime(df['date_time'])\n",
    "\n",
    "# Verify the conversion was successful\n",
    "print(df.dtypes)"
   ]
  },
  {
   "cell_type": "markdown",
   "id": "066297a5",
   "metadata": {
    "id": "066297a5"
   },
   "source": [
    "#### 10. Write the code to get a count of the different weather designations in the weather column and display top 10 weather categories."
   ]
  },
  {
   "cell_type": "code",
   "execution_count": 13,
   "id": "3dd2a234",
   "metadata": {
    "colab": {
     "base_uri": "https://localhost:8080/"
    },
    "id": "3dd2a234",
    "outputId": "c20faad4-86b9-429a-c2a5-6af0aeafa9f5"
   },
   "outputs": [
    {
     "name": "stdout",
     "output_type": "stream",
     "text": [
      "Mainly Clear     2106\n",
      "Mostly Cloudy    2069\n",
      "Cloudy           1728\n",
      "Clear            1326\n",
      "Snow              390\n",
      "Rain              306\n",
      "Rain Showers      188\n",
      "Fog               150\n",
      "Rain,Fog          116\n",
      "Drizzle,Fog        80\n",
      "Name: weather, dtype: int64\n"
     ]
    }
   ],
   "source": [
    "# Get a count of the different weather designations in the 'weather' column\n",
    "weather_counts = df['weather'].value_counts()\n",
    "\n",
    "# Display the top 10 weather categories\n",
    "print(weather_counts.head(10))"
   ]
  },
  {
   "cell_type": "markdown",
   "id": "bda209a2",
   "metadata": {
    "id": "bda209a2"
   },
   "source": [
    "#### 11. Which month of the year, the temp_f more than 90, humidity less than 50 , dew point more than 17, and the weather is clear? Extract that data and save it to a new data frame."
   ]
  },
  {
   "cell_type": "code",
   "execution_count": 14,
   "id": "665a945b",
   "metadata": {
    "id": "665a945b",
    "outputId": "306bf107-111e-4c68-abef-578238da8ed0"
   },
   "outputs": [
    {
     "name": "stdout",
     "output_type": "stream",
     "text": [
      "<class 'pandas.core.frame.DataFrame'>\n",
      "RangeIndex: 8784 entries, 0 to 8783\n",
      "Data columns (total 9 columns):\n",
      " #   Column             Non-Null Count  Dtype         \n",
      "---  ------             --------------  -----         \n",
      " 0   date_time          8784 non-null   datetime64[ns]\n",
      " 1   temp_f             8784 non-null   float64       \n",
      " 2   temp_c             8784 non-null   float64       \n",
      " 3   dew_point          8784 non-null   float64       \n",
      " 4   relative_humidity  8784 non-null   int64         \n",
      " 5   wind_speed         8784 non-null   int64         \n",
      " 6   visibility         8784 non-null   float64       \n",
      " 7   pressure           8784 non-null   float64       \n",
      " 8   weather            8784 non-null   object        \n",
      "dtypes: datetime64[ns](1), float64(5), int64(2), object(1)\n",
      "memory usage: 617.8+ KB\n"
     ]
    }
   ],
   "source": [
    "df.info()"
   ]
  },
  {
   "cell_type": "code",
   "execution_count": 18,
   "id": "f6d67ca9",
   "metadata": {
    "colab": {
     "base_uri": "https://localhost:8080/",
     "height": 248
    },
    "id": "f6d67ca9",
    "outputId": "697a00d2-3635-4b92-adbf-b54c64ae9d4e"
   },
   "outputs": [
    {
     "name": "stderr",
     "output_type": "stream",
     "text": [
      "/var/folders/y_/cjxdj51j5znbssdf31jd68fw0000gn/T/ipykernel_8841/2659834713.py:5: SettingWithCopyWarning: \n",
      "A value is trying to be set on a copy of a slice from a DataFrame.\n",
      "Try using .loc[row_indexer,col_indexer] = value instead\n",
      "\n",
      "See the caveats in the documentation: https://pandas.pydata.org/pandas-docs/stable/user_guide/indexing.html#returning-a-view-versus-a-copy\n",
      "  new_df['month'] = new_df['date_time'].dt.month\n"
     ]
    },
    {
     "data": {
      "text/html": [
       "<div>\n",
       "<style scoped>\n",
       "    .dataframe tbody tr th:only-of-type {\n",
       "        vertical-align: middle;\n",
       "    }\n",
       "\n",
       "    .dataframe tbody tr th {\n",
       "        vertical-align: top;\n",
       "    }\n",
       "\n",
       "    .dataframe thead th {\n",
       "        text-align: right;\n",
       "    }\n",
       "</style>\n",
       "<table border=\"1\" class=\"dataframe\">\n",
       "  <thead>\n",
       "    <tr style=\"text-align: right;\">\n",
       "      <th></th>\n",
       "      <th>date_time</th>\n",
       "      <th>temp_f</th>\n",
       "      <th>temp_c</th>\n",
       "      <th>dew_point</th>\n",
       "      <th>relative_humidity</th>\n",
       "      <th>wind_speed</th>\n",
       "      <th>visibility</th>\n",
       "      <th>pressure</th>\n",
       "      <th>weather</th>\n",
       "      <th>month</th>\n",
       "    </tr>\n",
       "  </thead>\n",
       "  <tbody>\n",
       "    <tr>\n",
       "      <th>5199</th>\n",
       "      <td>2012-08-04 15:00:00</td>\n",
       "      <td>91.04</td>\n",
       "      <td>32.8</td>\n",
       "      <td>18.8</td>\n",
       "      <td>44</td>\n",
       "      <td>17</td>\n",
       "      <td>24.1</td>\n",
       "      <td>101.39</td>\n",
       "      <td>Clear</td>\n",
       "      <td>8</td>\n",
       "    </tr>\n",
       "    <tr>\n",
       "      <th>5200</th>\n",
       "      <td>2012-08-04 16:00:00</td>\n",
       "      <td>90.50</td>\n",
       "      <td>32.5</td>\n",
       "      <td>18.5</td>\n",
       "      <td>44</td>\n",
       "      <td>15</td>\n",
       "      <td>24.1</td>\n",
       "      <td>101.34</td>\n",
       "      <td>Clear</td>\n",
       "      <td>8</td>\n",
       "    </tr>\n",
       "    <tr>\n",
       "      <th>5201</th>\n",
       "      <td>2012-08-04 17:00:00</td>\n",
       "      <td>90.50</td>\n",
       "      <td>32.5</td>\n",
       "      <td>19.8</td>\n",
       "      <td>47</td>\n",
       "      <td>13</td>\n",
       "      <td>24.1</td>\n",
       "      <td>101.32</td>\n",
       "      <td>Clear</td>\n",
       "      <td>8</td>\n",
       "    </tr>\n",
       "  </tbody>\n",
       "</table>\n",
       "</div>"
      ],
      "text/plain": [
       "               date_time  temp_f  temp_c  dew_point  relative_humidity  \\\n",
       "5199 2012-08-04 15:00:00   91.04    32.8       18.8                 44   \n",
       "5200 2012-08-04 16:00:00   90.50    32.5       18.5                 44   \n",
       "5201 2012-08-04 17:00:00   90.50    32.5       19.8                 47   \n",
       "\n",
       "      wind_speed  visibility  pressure weather  month  \n",
       "5199          17        24.1    101.39   Clear      8  \n",
       "5200          15        24.1    101.34   Clear      8  \n",
       "5201          13        24.1    101.32   Clear      8  "
      ]
     },
     "execution_count": 18,
     "metadata": {},
     "output_type": "execute_result"
    }
   ],
   "source": [
    "# Extract the data that meets the specified conditions\n",
    "new_df = df[(df['temp_f'] > 90) & (df['relative_humidity'] < 50) & (df['dew_point'] > 17) & (df['weather'] == 'Clear')]\n",
    "\n",
    "# Extract month from date_time column\n",
    "new_df['month'] = new_df['date_time'].dt.month\n",
    "\n",
    "# Filter data based on month\n",
    "new_df = new_df[new_df['month'] == 8]\n",
    "\n",
    "#Display the new data frame\n",
    "new_df"
   ]
  },
  {
   "cell_type": "markdown",
   "id": "e66a63db",
   "metadata": {
    "id": "e66a63db"
   },
   "source": [
    "#### 12. Extract the month information from the date_time column and add a month column at the data frame. (example: dt.month)"
   ]
  },
  {
   "cell_type": "code",
   "execution_count": 19,
   "id": "357d4c0a",
   "metadata": {
    "colab": {
     "base_uri": "https://localhost:8080/",
     "height": 206
    },
    "id": "357d4c0a",
    "outputId": "9d783689-2175-44ea-8edd-430125e50672"
   },
   "outputs": [
    {
     "data": {
      "text/html": [
       "<div>\n",
       "<style scoped>\n",
       "    .dataframe tbody tr th:only-of-type {\n",
       "        vertical-align: middle;\n",
       "    }\n",
       "\n",
       "    .dataframe tbody tr th {\n",
       "        vertical-align: top;\n",
       "    }\n",
       "\n",
       "    .dataframe thead th {\n",
       "        text-align: right;\n",
       "    }\n",
       "</style>\n",
       "<table border=\"1\" class=\"dataframe\">\n",
       "  <thead>\n",
       "    <tr style=\"text-align: right;\">\n",
       "      <th></th>\n",
       "      <th>date_time</th>\n",
       "      <th>temp_f</th>\n",
       "      <th>temp_c</th>\n",
       "      <th>dew_point</th>\n",
       "      <th>relative_humidity</th>\n",
       "      <th>wind_speed</th>\n",
       "      <th>visibility</th>\n",
       "      <th>pressure</th>\n",
       "      <th>weather</th>\n",
       "      <th>month</th>\n",
       "    </tr>\n",
       "  </thead>\n",
       "  <tbody>\n",
       "    <tr>\n",
       "      <th>0</th>\n",
       "      <td>2012-01-01 00:00:00</td>\n",
       "      <td>28.76</td>\n",
       "      <td>-1.8</td>\n",
       "      <td>-3.9</td>\n",
       "      <td>86</td>\n",
       "      <td>4</td>\n",
       "      <td>8.0</td>\n",
       "      <td>101.24</td>\n",
       "      <td>Fog</td>\n",
       "      <td>1</td>\n",
       "    </tr>\n",
       "    <tr>\n",
       "      <th>1</th>\n",
       "      <td>2012-01-01 01:00:00</td>\n",
       "      <td>28.76</td>\n",
       "      <td>-1.8</td>\n",
       "      <td>-3.7</td>\n",
       "      <td>87</td>\n",
       "      <td>4</td>\n",
       "      <td>8.0</td>\n",
       "      <td>101.24</td>\n",
       "      <td>Fog</td>\n",
       "      <td>1</td>\n",
       "    </tr>\n",
       "    <tr>\n",
       "      <th>2</th>\n",
       "      <td>2012-01-01 02:00:00</td>\n",
       "      <td>28.76</td>\n",
       "      <td>-1.8</td>\n",
       "      <td>-3.4</td>\n",
       "      <td>89</td>\n",
       "      <td>7</td>\n",
       "      <td>4.0</td>\n",
       "      <td>101.26</td>\n",
       "      <td>Freezing Drizzle,Fog</td>\n",
       "      <td>1</td>\n",
       "    </tr>\n",
       "    <tr>\n",
       "      <th>3</th>\n",
       "      <td>2012-01-01 03:00:00</td>\n",
       "      <td>29.30</td>\n",
       "      <td>-1.5</td>\n",
       "      <td>-3.2</td>\n",
       "      <td>88</td>\n",
       "      <td>6</td>\n",
       "      <td>4.0</td>\n",
       "      <td>101.27</td>\n",
       "      <td>Freezing Drizzle,Fog</td>\n",
       "      <td>1</td>\n",
       "    </tr>\n",
       "    <tr>\n",
       "      <th>4</th>\n",
       "      <td>2012-01-01 04:00:00</td>\n",
       "      <td>29.30</td>\n",
       "      <td>-1.5</td>\n",
       "      <td>-3.3</td>\n",
       "      <td>88</td>\n",
       "      <td>7</td>\n",
       "      <td>4.8</td>\n",
       "      <td>101.23</td>\n",
       "      <td>Fog</td>\n",
       "      <td>1</td>\n",
       "    </tr>\n",
       "  </tbody>\n",
       "</table>\n",
       "</div>"
      ],
      "text/plain": [
       "            date_time  temp_f  temp_c  dew_point  relative_humidity  \\\n",
       "0 2012-01-01 00:00:00   28.76    -1.8       -3.9                 86   \n",
       "1 2012-01-01 01:00:00   28.76    -1.8       -3.7                 87   \n",
       "2 2012-01-01 02:00:00   28.76    -1.8       -3.4                 89   \n",
       "3 2012-01-01 03:00:00   29.30    -1.5       -3.2                 88   \n",
       "4 2012-01-01 04:00:00   29.30    -1.5       -3.3                 88   \n",
       "\n",
       "   wind_speed  visibility  pressure               weather  month  \n",
       "0           4         8.0    101.24                   Fog      1  \n",
       "1           4         8.0    101.24                   Fog      1  \n",
       "2           7         4.0    101.26  Freezing Drizzle,Fog      1  \n",
       "3           6         4.0    101.27  Freezing Drizzle,Fog      1  \n",
       "4           7         4.8    101.23                   Fog      1  "
      ]
     },
     "execution_count": 19,
     "metadata": {},
     "output_type": "execute_result"
    }
   ],
   "source": [
    "# Extract the month information from the date_time column\n",
    "# and add it as a new column called 'month'\n",
    "df['month'] = df['date_time'].dt.month\n",
    "\n",
    "# Verify that the new column has been added and the values are correct\n",
    "df.head()"
   ]
  },
  {
   "cell_type": "markdown",
   "id": "5b8002e6",
   "metadata": {
    "id": "5b8002e6"
   },
   "source": [
    "#### 13. Save your original dataframe to ('weather_2012_new.csv') -- ensure your file does not contain the index column of the dataset."
   ]
  },
  {
   "cell_type": "code",
   "execution_count": 20,
   "id": "31b64e78",
   "metadata": {
    "id": "31b64e78"
   },
   "outputs": [],
   "source": [
    "# Save dataframe to csv file using the to_csv method\n",
    "df.to_csv('weather_2012_new.csv')"
   ]
  }
 ],
 "metadata": {
  "accelerator": "TPU",
  "colab": {
   "provenance": []
  },
  "gpuClass": "standard",
  "kernelspec": {
   "display_name": "Python 3 (ipykernel)",
   "language": "python",
   "name": "python3"
  },
  "language_info": {
   "codemirror_mode": {
    "name": "ipython",
    "version": 3
   },
   "file_extension": ".py",
   "mimetype": "text/x-python",
   "name": "python",
   "nbconvert_exporter": "python",
   "pygments_lexer": "ipython3",
   "version": "3.9.13"
  }
 },
 "nbformat": 4,
 "nbformat_minor": 5
}
